{
 "cells": [
  {
   "cell_type": "markdown",
   "id": "dee8fae1-4de3-4553-84c0-021bc250107d",
   "metadata": {},
   "source": [
    "# Data Science Tools and Ecosystem"
   ]
  },
  {
   "cell_type": "code",
   "execution_count": null,
   "id": "66cb7bb9-46e8-4f6e-ae10-15cb1fe5ee7c",
   "metadata": {},
   "outputs": [],
   "source": [
    "## Author\n",
    "S.Camper"
   ]
  },
  {
   "cell_type": "code",
   "execution_count": null,
   "id": "7a8315e2-f984-4ef5-b944-5d64b30480a4",
   "metadata": {},
   "outputs": [],
   "source": [
    "In this notebook, Data Science Tools and Ecosystem are summarized."
   ]
  },
  {
   "cell_type": "code",
   "execution_count": null,
   "id": "e31ff3e4-e9c8-4b33-b1fd-a738cf0faf45",
   "metadata": {},
   "outputs": [],
   "source": [
    "**Objectives:**\n",
    "* List Popular Data Science Languages\n",
    "* List Common Libraries Used in Data Science\n",
    "* List Examples of Data Science Tools\n",
    "* Show How to Write and Execute an Arithmetic Expression in Python "
   ]
  },
  {
   "cell_type": "code",
   "execution_count": null,
   "id": "60950e7f-004d-4924-912c-8e0a43b43ea9",
   "metadata": {},
   "outputs": [],
   "source": [
    "Some of the popular languages that Data Scientists use are:"
   ]
  },
  {
   "cell_type": "code",
   "execution_count": null,
   "id": "4b8ff532-9831-4f0e-84ed-bb6e85cde8d2",
   "metadata": {},
   "outputs": [],
   "source": [
    "1. R\n",
    "2. SQL\n",
    "3. Python\n",
    "4. Julia\n",
    "5. JavaScript\n",
    "6. C/C++\n",
    "7. Java\n",
    "8. Visual Basic\n",
    "9. Scala\n",
    "10. SAS\n",
    "11. Swift\n",
    "12. MATLAB"
   ]
  },
  {
   "cell_type": "code",
   "execution_count": null,
   "id": "ba34391e-8c0d-4ed9-8fd0-a4137a25af92",
   "metadata": {},
   "outputs": [],
   "source": [
    "Some of the commonly used libraries used by Data Scientists include:"
   ]
  },
  {
   "cell_type": "code",
   "execution_count": null,
   "id": "b32c46f2-08d7-4536-9a02-00587e30925a",
   "metadata": {},
   "outputs": [],
   "source": [
    "1. Matplotlib\n",
    "2. Scikit-learn\n",
    "3. Keras\n",
    "4. Pandas\n",
    "5. TensorFlow\n",
    "6. PyTorch\n",
    "7. NumPy\n",
    "8. SciPy\n",
    "9. Scrapy\n",
    "10. BeautifulSoup\n",
    "11. LightGBM\n",
    "12. ELI5\n",
    "13. Theano\n",
    "14. NuPIC\n",
    "15. Ramp\n",
    "16. Pipenv\n",
    "17. Bob\n",
    "18. PyBrain\n",
    "19. Caffe2\n",
    "20. Chainer"
   ]
  },
  {
   "cell_type": "code",
   "execution_count": null,
   "id": "7d1e58a0-a82b-4474-a7eb-06d46f552495",
   "metadata": {},
   "outputs": [],
   "source": [
    "# Execute as a markdown cell\n",
    "\n",
    "| Data Science Tools |\n",
    "| ------------------ |\n",
    "| Git |\n",
    "| GitLab |\n",
    "| Python |\n",
    "| Visual Studio |\n",
    "| Linux |\n",
    "| RubyMine |\n",
    "| Bootstrap |"
   ]
  },
  {
   "cell_type": "code",
   "execution_count": null,
   "id": "38468564-82f0-49a7-82ff-1d0d32392ee1",
   "metadata": {},
   "outputs": [],
   "source": [
    "### Below are a few examples of evaluating arithmetic expressions in Python"
   ]
  },
  {
   "cell_type": "code",
   "execution_count": 18,
   "id": "6fdac00a-b8f1-4c7e-8a34-796327326ace",
   "metadata": {},
   "outputs": [
    {
     "data": {
      "text/plain": [
       "17"
      ]
     },
     "execution_count": 18,
     "metadata": {},
     "output_type": "execute_result"
    }
   ],
   "source": [
    "(3*4) + 5 "
   ]
  },
  {
   "cell_type": "code",
   "execution_count": null,
   "id": "d44e7a2a-fdf2-44ca-ae68-f7d62a6b7f45",
   "metadata": {},
   "outputs": [],
   "source": [
    "This will convert 200 minutes to hours by dividing by 60"
   ]
  },
  {
   "cell_type": "code",
   "execution_count": 20,
   "id": "ba9a9364-d0eb-4768-ba7e-9038316d0fae",
   "metadata": {},
   "outputs": [
    {
     "data": {
      "text/plain": [
       "3.3333333333333335"
      ]
     },
     "execution_count": 20,
     "metadata": {},
     "output_type": "execute_result"
    }
   ],
   "source": [
    "200/6"
   ]
  },
  {
   "cell_type": "code",
   "execution_count": null,
   "id": "79f3d7c5-8a8f-4813-87f7-f3fa0e6d9ba0",
   "metadata": {},
   "outputs": [],
   "source": []
  },
  {
   "cell_type": "code",
   "execution_count": null,
   "id": "6c0d40cb-852f-4a0c-a8a1-c9173b608e54",
   "metadata": {},
   "outputs": [],
   "source": []
  }
 ],
 "metadata": {
  "kernelspec": {
   "display_name": "Python 3 (ipykernel)",
   "language": "python",
   "name": "python3"
  },
  "language_info": {
   "codemirror_mode": {
    "name": "ipython",
    "version": 3
   },
   "file_extension": ".py",
   "mimetype": "text/x-python",
   "name": "python",
   "nbconvert_exporter": "python",
   "pygments_lexer": "ipython3",
   "version": "3.11.7"
  }
 },
 "nbformat": 4,
 "nbformat_minor": 5
}
